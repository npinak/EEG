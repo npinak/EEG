{
  "nbformat": 4,
  "nbformat_minor": 0,
  "metadata": {
    "colab": {
      "name": "The-Power-Spectrum_(Part-1).ipynb",
      "provenance": []
    },
    "kernelspec": {
      "name": "python3",
      "display_name": "Python 3"
    },
    "language_info": {
      "name": "python"
    }
  },
  "cells": [
    {
      "cell_type": "code",
      "metadata": {
        "colab": {
          "base_uri": "https://localhost:8080/"
        },
        "id": "mvGPZKF4Z1r-",
        "outputId": "894e7146-da11-4fe7-bc3d-adfd700fb096"
      },
      "source": [
        "from google.colab import drive\n",
        "drive.mount('/content/gdrive')"
      ],
      "execution_count": 5,
      "outputs": [
        {
          "output_type": "stream",
          "text": [
            "Drive already mounted at /content/gdrive; to attempt to forcibly remount, call drive.mount(\"/content/gdrive\", force_remount=True).\n"
          ],
          "name": "stdout"
        }
      ]
    },
    {
      "cell_type": "code",
      "metadata": {
        "id": "e8rjxcwoar0N"
      },
      "source": [
        "from scipy.io import loadmat                    # To load .mat files\n",
        "from pylab import *                             # Import plotting functions\n",
        "from IPython.lib.display import YouTubeVideo    # Package for displaying YouTube videos"
      ],
      "execution_count": 6,
      "outputs": []
    },
    {
      "cell_type": "code",
      "metadata": {
        "id": "EOr70JdMatyw"
      },
      "source": [
        "# ... and the tools that we will need for this notebook\n",
        "from numpy import where\n",
        "from numpy.fft import fft, rfft\n",
        "from scipy.signal import spectrogram\n",
        "rcParams['figure.figsize']=(12,3)               # Change the default figure size"
      ],
      "execution_count": 7,
      "outputs": []
    },
    {
      "cell_type": "code",
      "metadata": {
        "colab": {
          "base_uri": "https://localhost:8080/",
          "height": 225
        },
        "id": "FOnfmnYwaQr7",
        "outputId": "e88ae1ff-5458-4c36-c4bc-be161a1a9ba5"
      },
      "source": [
        "data = loadmat('/content/gdrive/MyDrive/Colab Notebooks/Data/Python EEG/Case-Studies-Python-student/matfiles/EEG-1.mat')  # Load the EEG data\n",
        "EEG = data['EEG'].reshape(-1)         # Extract the EEG variable\n",
        "t = data['t'][0]                      # ... and the t variable\n",
        "\n",
        "x = EEG                               # Relabel the data variable\n",
        "dt = t[1] - t[0]                      # Define the sampling interval\n",
        "N = x.shape[0]                        # Define the total number of data points\n",
        "T = N * dt                            # Define the total duration of the data\n",
        "\n",
        "xf = fft(x - x.mean())                # Compute Fourier transform of x\n",
        "Sxx = 2 * dt ** 2 / T * (xf * xf.conj())  # Compute spectrum\n",
        "Sxx = Sxx[:int(len(x) / 2)]           # Ignore negative frequencies\n",
        "\n",
        "df = 1 / T.max()                      # Determine frequency resolution\n",
        "fNQ = 1 / dt / 2                      # Determine Nyquist frequency\n",
        "faxis = arange(0,fNQ,df)              # Construct frequency axis\n",
        "\n",
        "plot(faxis, Sxx.real)                 # Plot spectrum vs frequency\n",
        "xlim([0, 100])                        # Select frequency range\n",
        "xlabel('Frequency [Hz]')              # Label the axes\n",
        "ylabel('Power [$\\mu V^2$/Hz]')\n",
        "show()"
      ],
      "execution_count": 8,
      "outputs": [
        {
          "output_type": "display_data",
          "data": {
            "image/png": "[encoded data removed]",
            "text/plain": [
              "<Figure size 864x216 with 1 Axes>"
            ]
          },
          "metadata": {
            "tags": [],
            "needs_background": "light"
          }
        }
      ]
    },
    {
      "cell_type": "code",
      "metadata": {
        "id": "Hx4Va1V6axuU"
      },
      "source": [
        ""
      ],
      "execution_count": null,
      "outputs": []
    }
  ]
}